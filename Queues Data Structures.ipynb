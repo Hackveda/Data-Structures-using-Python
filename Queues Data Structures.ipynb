{
 "cells": [
  {
   "cell_type": "code",
   "execution_count": 1,
   "id": "8b208298",
   "metadata": {},
   "outputs": [],
   "source": [
    "from collections import deque"
   ]
  },
  {
   "cell_type": "code",
   "execution_count": 2,
   "id": "e83434db",
   "metadata": {},
   "outputs": [
    {
     "data": {
      "text/plain": [
       "collections.deque"
      ]
     },
     "execution_count": 2,
     "metadata": {},
     "output_type": "execute_result"
    }
   ],
   "source": [
    "queue = deque([\"Arush\", \" jaideep\", \"Palak\"])\n",
    "type(queue)"
   ]
  },
  {
   "cell_type": "code",
   "execution_count": 3,
   "id": "e6174f4d",
   "metadata": {},
   "outputs": [
    {
     "data": {
      "text/plain": [
       "deque(['Arush', ' jaideep', 'Palak', 'Devanshu'])"
      ]
     },
     "execution_count": 3,
     "metadata": {},
     "output_type": "execute_result"
    }
   ],
   "source": [
    "# perform operations on queues\n",
    "queue.append(\"Devanshu\")\n",
    "queue"
   ]
  },
  {
   "cell_type": "code",
   "execution_count": 4,
   "id": "9e56de91",
   "metadata": {},
   "outputs": [
    {
     "data": {
      "text/plain": [
       "'Arush'"
      ]
     },
     "execution_count": 4,
     "metadata": {},
     "output_type": "execute_result"
    }
   ],
   "source": [
    "# Deque\n",
    "queue.popleft()"
   ]
  },
  {
   "cell_type": "code",
   "execution_count": 5,
   "id": "ee63914e",
   "metadata": {},
   "outputs": [
    {
     "data": {
      "text/plain": [
       "deque([' jaideep', 'Palak', 'Devanshu'])"
      ]
     },
     "execution_count": 5,
     "metadata": {},
     "output_type": "execute_result"
    }
   ],
   "source": [
    "queue"
   ]
  },
  {
   "cell_type": "code",
   "execution_count": 7,
   "id": "dd4871f6",
   "metadata": {},
   "outputs": [
    {
     "data": {
      "text/plain": [
       "deque(['Amitabh', 'Amitabh', ' jaideep', 'Palak', 'Devanshu'])"
      ]
     },
     "execution_count": 7,
     "metadata": {},
     "output_type": "execute_result"
    }
   ],
   "source": [
    "# Operations\n",
    "queue.appendleft(\"Amitabh\")\n",
    "queue"
   ]
  },
  {
   "cell_type": "code",
   "execution_count": 9,
   "id": "53f4a1cb",
   "metadata": {},
   "outputs": [
    {
     "data": {
      "text/plain": [
       "deque(['Amitabh', 'Amitabh', ' jaideep', 'Palak', 'Devanshu'])"
      ]
     },
     "execution_count": 9,
     "metadata": {},
     "output_type": "execute_result"
    }
   ],
   "source": [
    "queue2 = queue.copy()\n",
    "queue2"
   ]
  },
  {
   "cell_type": "code",
   "execution_count": 10,
   "id": "78848a63",
   "metadata": {},
   "outputs": [
    {
     "data": {
      "text/plain": [
       "2"
      ]
     },
     "execution_count": 10,
     "metadata": {},
     "output_type": "execute_result"
    }
   ],
   "source": [
    "queue2.count(\"Amitabh\")"
   ]
  },
  {
   "cell_type": "code",
   "execution_count": 11,
   "id": "00ab8757",
   "metadata": {},
   "outputs": [
    {
     "data": {
      "text/plain": [
       "deque(['Amitabh',\n",
       "       'Amitabh',\n",
       "       ' jaideep',\n",
       "       'Palak',\n",
       "       'Devanshu',\n",
       "       'Sohan',\n",
       "       'Mohan',\n",
       "       'Rohan'])"
      ]
     },
     "execution_count": 11,
     "metadata": {},
     "output_type": "execute_result"
    }
   ],
   "source": [
    "extra_list = [\"Sohan\", \"Mohan\", \"Rohan\"]\n",
    "queue2.extend(extra_list)\n",
    "queue2"
   ]
  },
  {
   "cell_type": "code",
   "execution_count": 12,
   "id": "014656e0",
   "metadata": {},
   "outputs": [
    {
     "data": {
      "text/plain": [
       "deque(['Rohan',\n",
       "       'Mohan',\n",
       "       'Sohan',\n",
       "       'Amitabh',\n",
       "       'Amitabh',\n",
       "       ' jaideep',\n",
       "       'Palak',\n",
       "       'Devanshu',\n",
       "       'Sohan',\n",
       "       'Mohan',\n",
       "       'Rohan'])"
      ]
     },
     "execution_count": 12,
     "metadata": {},
     "output_type": "execute_result"
    }
   ],
   "source": [
    "queue2.extendleft(extra_list)\n",
    "queue2"
   ]
  },
  {
   "cell_type": "code",
   "execution_count": 13,
   "id": "becd6034",
   "metadata": {},
   "outputs": [
    {
     "data": {
      "text/plain": [
       "7"
      ]
     },
     "execution_count": 13,
     "metadata": {},
     "output_type": "execute_result"
    }
   ],
   "source": [
    "queue2.index(\"Devanshu\")"
   ]
  },
  {
   "cell_type": "code",
   "execution_count": 14,
   "id": "766680a1",
   "metadata": {},
   "outputs": [
    {
     "data": {
      "text/plain": [
       "deque(['Rohan',\n",
       "       'Mohan',\n",
       "       'Sohan',\n",
       "       'Amitabh',\n",
       "       'Amitabh',\n",
       "       ' jaideep',\n",
       "       'Palak',\n",
       "       'Devanshu Mom',\n",
       "       'Devanshu',\n",
       "       'Sohan',\n",
       "       'Mohan',\n",
       "       'Rohan'])"
      ]
     },
     "execution_count": 14,
     "metadata": {},
     "output_type": "execute_result"
    }
   ],
   "source": [
    "queue2.insert(7, \"Devanshu Mom\")\n",
    "queue2"
   ]
  },
  {
   "cell_type": "code",
   "execution_count": 15,
   "id": "0e858b66",
   "metadata": {},
   "outputs": [
    {
     "data": {
      "text/plain": [
       "'Rohan'"
      ]
     },
     "execution_count": 15,
     "metadata": {},
     "output_type": "execute_result"
    }
   ],
   "source": [
    "queue2.pop()"
   ]
  },
  {
   "cell_type": "code",
   "execution_count": 16,
   "id": "62bbf0ac",
   "metadata": {},
   "outputs": [
    {
     "data": {
      "text/plain": [
       "deque(['Rohan',\n",
       "       'Mohan',\n",
       "       'Sohan',\n",
       "       'Amitabh',\n",
       "       'Amitabh',\n",
       "       ' jaideep',\n",
       "       'Palak',\n",
       "       'Devanshu Mom',\n",
       "       'Devanshu',\n",
       "       'Sohan',\n",
       "       'Mohan'])"
      ]
     },
     "execution_count": 16,
     "metadata": {},
     "output_type": "execute_result"
    }
   ],
   "source": [
    "queue2"
   ]
  },
  {
   "cell_type": "code",
   "execution_count": 17,
   "id": "8f8cd086",
   "metadata": {},
   "outputs": [
    {
     "data": {
      "text/plain": [
       "deque(['Mohan',\n",
       "       'Sohan',\n",
       "       'Amitabh',\n",
       "       'Amitabh',\n",
       "       ' jaideep',\n",
       "       'Palak',\n",
       "       'Devanshu Mom',\n",
       "       'Devanshu',\n",
       "       'Sohan',\n",
       "       'Mohan'])"
      ]
     },
     "execution_count": 17,
     "metadata": {},
     "output_type": "execute_result"
    }
   ],
   "source": [
    "queue2.popleft()\n",
    "queue2"
   ]
  },
  {
   "cell_type": "code",
   "execution_count": 18,
   "id": "2f8a7532",
   "metadata": {},
   "outputs": [
    {
     "data": {
      "text/plain": [
       "deque(['Mohan',\n",
       "       'Sohan',\n",
       "       'Amitabh',\n",
       "       'Amitabh',\n",
       "       ' jaideep',\n",
       "       'Palak',\n",
       "       'Devanshu',\n",
       "       'Sohan',\n",
       "       'Mohan'])"
      ]
     },
     "execution_count": 18,
     "metadata": {},
     "output_type": "execute_result"
    }
   ],
   "source": [
    "queue2.remove(\"Devanshu Mom\")\n",
    "queue2"
   ]
  },
  {
   "cell_type": "code",
   "execution_count": 22,
   "id": "41041551",
   "metadata": {},
   "outputs": [],
   "source": [
    "queue2.reverse()"
   ]
  },
  {
   "cell_type": "code",
   "execution_count": 23,
   "id": "af571878",
   "metadata": {},
   "outputs": [
    {
     "data": {
      "text/plain": [
       "deque(['Devanshu',\n",
       "       'Palak',\n",
       "       ' jaideep',\n",
       "       'Amitabh',\n",
       "       'Amitabh',\n",
       "       'Sohan',\n",
       "       'Mohan'])"
      ]
     },
     "execution_count": 23,
     "metadata": {},
     "output_type": "execute_result"
    }
   ],
   "source": [
    "queue2"
   ]
  },
  {
   "cell_type": "code",
   "execution_count": 25,
   "id": "1eecce20",
   "metadata": {},
   "outputs": [
    {
     "data": {
      "text/plain": [
       "deque(['Amitabh',\n",
       "       'Sohan',\n",
       "       'Mohan',\n",
       "       'Devanshu',\n",
       "       'Palak',\n",
       "       ' jaideep',\n",
       "       'Amitabh'])"
      ]
     },
     "execution_count": 25,
     "metadata": {},
     "output_type": "execute_result"
    }
   ],
   "source": [
    "queue2.rotate(2)\n",
    "queue2"
   ]
  }
 ],
 "metadata": {
  "kernelspec": {
   "display_name": "Python 3",
   "language": "python",
   "name": "python3"
  },
  "language_info": {
   "codemirror_mode": {
    "name": "ipython",
    "version": 3
   },
   "file_extension": ".py",
   "mimetype": "text/x-python",
   "name": "python",
   "nbconvert_exporter": "python",
   "pygments_lexer": "ipython3",
   "version": "3.9.2"
  }
 },
 "nbformat": 4,
 "nbformat_minor": 5
}
