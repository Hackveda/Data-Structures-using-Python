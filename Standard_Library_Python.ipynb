{
  "nbformat": 4,
  "nbformat_minor": 0,
  "metadata": {
    "colab": {
      "name": "Standard Library Python.ipynb",
      "provenance": [],
      "authorship_tag": "ABX9TyN34ofxyuikPfaZ20Fzh95+",
      "include_colab_link": true
    },
    "kernelspec": {
      "name": "python3",
      "display_name": "Python 3"
    },
    "language_info": {
      "name": "python"
    }
  },
  "cells": [
    {
      "cell_type": "markdown",
      "metadata": {
        "id": "view-in-github",
        "colab_type": "text"
      },
      "source": [
        "<a href=\"https://colab.research.google.com/github/Hackveda/Data-Structures-using-Python/blob/main/Standard_Library_Python.ipynb\" target=\"_parent\"><img src=\"https://colab.research.google.com/assets/colab-badge.svg\" alt=\"Open In Colab\"/></a>"
      ]
    },
    {
      "cell_type": "code",
      "metadata": {
        "colab": {
          "base_uri": "https://localhost:8080/"
        },
        "id": "OdGIeKEAK5Ko",
        "outputId": "89794b7a-ddad-427e-bbda-9f99ab676450"
      },
      "source": [
        "# String Pattern Matching\n",
        "# Check if the email id is valid or not\n",
        "import re\n",
        "email = input(\"Enter email id: \")\n",
        "result = re.findall(r'^[a-zA-Z0-9+_.-]+@[a-zA-Z0-9.-]+$', email)\n",
        "if len(result) != 0:\n",
        "  print(\"Email ID is valid\")\n",
        "else:\n",
        "  print(\"Email ID is invalid\")"
      ],
      "execution_count": 9,
      "outputs": [
        {
          "output_type": "stream",
          "text": [
            "Enter email id: admin@hackveda.ca\n",
            "Email ID is valid\n"
          ],
          "name": "stdout"
        }
      ]
    },
    {
      "cell_type": "code",
      "metadata": {
        "colab": {
          "base_uri": "https://localhost:8080/",
          "height": 58
        },
        "id": "kgqsJ5QsPlh-",
        "outputId": "fd1e3e88-4925-4074-bdfd-d562c1ddae81"
      },
      "source": [
        "# Using Random in Python\n",
        "import random\n",
        "mylist = [\"Devanshu\", \"Arush\", \"Salman\", \"Sharukh\"]\n",
        "random.choice(mylist)"
      ],
      "execution_count": 18,
      "outputs": [
        {
          "output_type": "execute_result",
          "data": {
            "application/vnd.google.colaboratory.intrinsic+json": {
              "type": "string"
            },
            "text/plain": [
              "'Arush'"
            ]
          },
          "metadata": {
            "tags": []
          },
          "execution_count": 18
        }
      ]
    },
    {
      "cell_type": "code",
      "metadata": {
        "colab": {
          "base_uri": "https://localhost:8080/"
        },
        "id": "vaRHl-khQGPS",
        "outputId": "21ab39f0-39bb-4312-8dbf-6228bdb6357b"
      },
      "source": [
        "# Implement a Dice\n",
        "dice = [1, 2, 3, 4, 5, 6]\n",
        "random.choice(dice)"
      ],
      "execution_count": 25,
      "outputs": [
        {
          "output_type": "execute_result",
          "data": {
            "text/plain": [
              "1"
            ]
          },
          "metadata": {
            "tags": []
          },
          "execution_count": 25
        }
      ]
    },
    {
      "cell_type": "code",
      "metadata": {
        "colab": {
          "base_uri": "https://localhost:8080/"
        },
        "id": "YmgydSbAQR3w",
        "outputId": "8144bea8-21c1-4b46-c047-570b8c874075"
      },
      "source": [
        "# Implement Statistics in Python\n",
        "import statistics\n",
        "mylist = [6, 4, 2, 0, 1, 4]\n",
        "round(statistics.mean(mylist),3)"
      ],
      "execution_count": 28,
      "outputs": [
        {
          "output_type": "execute_result",
          "data": {
            "text/plain": [
              "2.833"
            ]
          },
          "metadata": {
            "tags": []
          },
          "execution_count": 28
        }
      ]
    },
    {
      "cell_type": "code",
      "metadata": {
        "id": "wKbKrheCQwof"
      },
      "source": [
        "# Implementation of Date and Time in Python\n",
        "from datetime import date\n",
        "today = date.today()"
      ],
      "execution_count": 30,
      "outputs": []
    },
    {
      "cell_type": "code",
      "metadata": {
        "colab": {
          "base_uri": "https://localhost:8080/",
          "height": 58
        },
        "id": "fgpb3OJIRg1C",
        "outputId": "7b5e07fb-fd4e-4e58-f5cf-b9cd8544c34b"
      },
      "source": [
        "today.strftime(\"%y/%d/%m\")"
      ],
      "execution_count": 33,
      "outputs": [
        {
          "output_type": "execute_result",
          "data": {
            "application/vnd.google.colaboratory.intrinsic+json": {
              "type": "string"
            },
            "text/plain": [
              "'21/05/06'"
            ]
          },
          "metadata": {
            "tags": []
          },
          "execution_count": 33
        }
      ]
    },
    {
      "cell_type": "code",
      "metadata": {
        "colab": {
          "base_uri": "https://localhost:8080/",
          "height": 58
        },
        "id": "R9RDPmdjR0P2",
        "outputId": "ae8b2bcf-f617-4e23-a645-3ed1b0e06a1d"
      },
      "source": [
        "# Print the date in alphabets\n",
        "today.strftime(\"Day is %a, Month is %B (%b)\")"
      ],
      "execution_count": 37,
      "outputs": [
        {
          "output_type": "execute_result",
          "data": {
            "application/vnd.google.colaboratory.intrinsic+json": {
              "type": "string"
            },
            "text/plain": [
              "'Day is Sat, Month is June (Jun)'"
            ]
          },
          "metadata": {
            "tags": []
          },
          "execution_count": 37
        }
      ]
    },
    {
      "cell_type": "code",
      "metadata": {
        "colab": {
          "base_uri": "https://localhost:8080/"
        },
        "id": "t1EDzbBSSfjt",
        "outputId": "8b7e1358-13dc-4c1d-a6b2-5a9a7172d1b6"
      },
      "source": [
        "# Data compression in Python\n",
        "data = b\"This is my statement alshdkahsdkahsdkaskdgajsdvsahaskdhgadgas\"\n",
        "len(data)"
      ],
      "execution_count": 50,
      "outputs": [
        {
          "output_type": "execute_result",
          "data": {
            "text/plain": [
              "61"
            ]
          },
          "metadata": {
            "tags": []
          },
          "execution_count": 50
        }
      ]
    },
    {
      "cell_type": "code",
      "metadata": {
        "colab": {
          "base_uri": "https://localhost:8080/"
        },
        "id": "GUkjMtFsSmOv",
        "outputId": "ea97aa4c-3f21-498c-fed1-7104f000fceb"
      },
      "source": [
        "# Compress this data using zlib\n",
        "import zlib\n",
        "data_compressed = zlib.compress(data)\n",
        "len(data_compressed)"
      ],
      "execution_count": 51,
      "outputs": [
        {
          "output_type": "execute_result",
          "data": {
            "text/plain": [
              "57"
            ]
          },
          "metadata": {
            "tags": []
          },
          "execution_count": 51
        }
      ]
    },
    {
      "cell_type": "code",
      "metadata": {
        "colab": {
          "base_uri": "https://localhost:8080/"
        },
        "id": "64uRgrxXTQwx",
        "outputId": "7a442de6-1c71-46be-85d7-acc7a205b959"
      },
      "source": [
        "zlib.decompress(data_compressed)"
      ],
      "execution_count": 52,
      "outputs": [
        {
          "output_type": "execute_result",
          "data": {
            "text/plain": [
              "b'This is my statement alshdkahsdkahsdkaskdgajsdvsahaskdhgadgas'"
            ]
          },
          "metadata": {
            "tags": []
          },
          "execution_count": 52
        }
      ]
    },
    {
      "cell_type": "code",
      "metadata": {
        "id": "57_4hD5CTpN4"
      },
      "source": [
        "# Performance measurement in Python\n",
        "from timeit import Timer\n",
        "mylist = [\"dev\", \"abc\", \"cvb\", \"aag\"]"
      ],
      "execution_count": 59,
      "outputs": []
    },
    {
      "cell_type": "code",
      "metadata": {
        "colab": {
          "base_uri": "https://localhost:8080/"
        },
        "id": "11IiZmcUUtSu",
        "outputId": "06c9ea36-415e-4d2d-8988-cdf25400d8fa"
      },
      "source": [
        "import timeit\n",
        "timeit.timeit(\"[ i*2 for i in range(10) ]\")"
      ],
      "execution_count": 66,
      "outputs": [
        {
          "output_type": "execute_result",
          "data": {
            "text/plain": [
              "0.8060436689997914"
            ]
          },
          "metadata": {
            "tags": []
          },
          "execution_count": 66
        }
      ]
    },
    {
      "cell_type": "code",
      "metadata": {
        "colab": {
          "base_uri": "https://localhost:8080/"
        },
        "id": "A28d2TVDVod3",
        "outputId": "4343f8e3-ade5-4817-c74b-5097ce66645a"
      },
      "source": [
        "timeit.timeit(\"[ i*2 for i in range(100) ]\")"
      ],
      "execution_count": 67,
      "outputs": [
        {
          "output_type": "execute_result",
          "data": {
            "text/plain": [
              "4.457285523999872"
            ]
          },
          "metadata": {
            "tags": []
          },
          "execution_count": 67
        }
      ]
    },
    {
      "cell_type": "code",
      "metadata": {
        "colab": {
          "base_uri": "https://localhost:8080/"
        },
        "id": "5hSKApfwWIXo",
        "outputId": "84a1dabd-9733-469b-d37c-5359846e95de"
      },
      "source": [
        "# Quality Control in Python\n",
        "def sum(a, b):\n",
        "  \"\"\"\n",
        "  This function sums two values\n",
        "  >>> print(sum(10,20))\n",
        "  30\n",
        "  \"\"\"\n",
        "  return a+b\n",
        "\n",
        "def sub(a, b):\n",
        "  \"\"\"\n",
        "  Subtracts two values\n",
        "  >>> print(sub(20, 10))\n",
        "  10\n",
        "  \"\"\"\n",
        "  return a-b\n",
        "\n",
        "import doctest\n",
        "doctest.testmod()"
      ],
      "execution_count": 74,
      "outputs": [
        {
          "output_type": "execute_result",
          "data": {
            "text/plain": [
              "TestResults(failed=0, attempted=2)"
            ]
          },
          "metadata": {
            "tags": []
          },
          "execution_count": 74
        }
      ]
    },
    {
      "cell_type": "code",
      "metadata": {
        "colab": {
          "base_uri": "https://localhost:8080/"
        },
        "id": "1ki1iff4Wc3X",
        "outputId": "b9e03948-3100-4917-9426-267775a949ae"
      },
      "source": [
        "# Multi-Threading in Python\n",
        "import threading\n",
        "\n",
        "class MyOperation(threading.Thread):\n",
        "  def __init__(self, a, b):\n",
        "    threading.Thread.__init__(self)\n",
        "    self.a = a\n",
        "    self.b = b\n",
        "\n",
        "  def run(self):\n",
        "    print(\"Sum is \", str(self.a + self.b))\n",
        "\n",
        "MyOperation(10, 20).start()\n",
        "print(\"Gui Thread executed\")"
      ],
      "execution_count": 77,
      "outputs": [
        {
          "output_type": "stream",
          "text": [
            "Sum is Gui Thread executed \n",
            "30\n"
          ],
          "name": "stdout"
        }
      ]
    }
  ]
}