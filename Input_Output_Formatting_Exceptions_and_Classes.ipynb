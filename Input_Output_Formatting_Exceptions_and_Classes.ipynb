{
  "nbformat": 4,
  "nbformat_minor": 0,
  "metadata": {
    "colab": {
      "name": "Input Output Formatting Exceptions and Classes.ipynb",
      "provenance": [],
      "collapsed_sections": [],
      "authorship_tag": "ABX9TyNuY//QsBrCcs9FRzCqXcpB",
      "include_colab_link": true
    },
    "kernelspec": {
      "name": "python3",
      "display_name": "Python 3"
    },
    "language_info": {
      "name": "python"
    }
  },
  "cells": [
    {
      "cell_type": "markdown",
      "metadata": {
        "id": "view-in-github",
        "colab_type": "text"
      },
      "source": [
        "<a href=\"https://colab.research.google.com/github/Hackveda/Data-Structures-using-Python/blob/main/Input_Output_Formatting_Exceptions_and_Classes.ipynb\" target=\"_parent\"><img src=\"https://colab.research.google.com/assets/colab-badge.svg\" alt=\"Open In Colab\"/></a>"
      ]
    },
    {
      "cell_type": "code",
      "metadata": {
        "colab": {
          "base_uri": "https://localhost:8080/"
        },
        "id": "NghFmTxckBJI",
        "outputId": "9aa1cb92-83a9-4f35-ff8b-6b678d231378"
      },
      "source": [
        "print(\"Hello devanshu\", \"Shukla\")\n",
        "name = \"Devanshu\"\n",
        "print(\"My name is\", name)"
      ],
      "execution_count": null,
      "outputs": [
        {
          "output_type": "stream",
          "text": [
            "Hello devanshu Shukla\n",
            "My name is Devanshu\n"
          ],
          "name": "stdout"
        }
      ]
    },
    {
      "cell_type": "code",
      "metadata": {
        "colab": {
          "base_uri": "https://localhost:8080/"
        },
        "id": "xdPnjTbnldTo",
        "outputId": "50412fa8-911f-4f81-c4a8-b5c16728d106"
      },
      "source": [
        "name = \"Devanshu\"\n",
        "sirname = \"Shukla\"\n",
        "print_statement = f\"My name is {name} and Sirname is {sirname}\"\n",
        "print(print_statement)"
      ],
      "execution_count": null,
      "outputs": [
        {
          "output_type": "stream",
          "text": [
            "My name is Devanshu and Sirname is Shukla\n"
          ],
          "name": "stdout"
        }
      ]
    },
    {
      "cell_type": "code",
      "metadata": {
        "colab": {
          "base_uri": "https://localhost:8080/",
          "height": 38
        },
        "id": "wvv8R0lcmfUN",
        "outputId": "73eb50b0-3562-4f43-ed2b-d3144982b796"
      },
      "source": [
        "subtotal_amount = 10000000\n",
        "user = \"Devanshu\"\n",
        "\"Subtotal for {} is {:,}\".format(user, subtotal_amount)"
      ],
      "execution_count": null,
      "outputs": [
        {
          "output_type": "execute_result",
          "data": {
            "application/vnd.google.colaboratory.intrinsic+json": {
              "type": "string"
            },
            "text/plain": [
              "'Subtotal for Devanshu is 10,000,000'"
            ]
          },
          "metadata": {
            "tags": []
          },
          "execution_count": 9
        }
      ]
    },
    {
      "cell_type": "code",
      "metadata": {
        "colab": {
          "base_uri": "https://localhost:8080/",
          "height": 38
        },
        "id": "qOHsZV-GohYz",
        "outputId": "4abb34f1-fdb4-4d06-c107-4fc8c9844b26"
      },
      "source": [
        "decimal_val = 10\n",
        "\"Binary value of {} is {:x}\".format(decimal_val, decimal_val)"
      ],
      "execution_count": null,
      "outputs": [
        {
          "output_type": "execute_result",
          "data": {
            "application/vnd.google.colaboratory.intrinsic+json": {
              "type": "string"
            },
            "text/plain": [
              "'Binary value of 10 is a'"
            ]
          },
          "metadata": {
            "tags": []
          },
          "execution_count": 14
        }
      ]
    },
    {
      "cell_type": "code",
      "metadata": {
        "colab": {
          "base_uri": "https://localhost:8080/"
        },
        "id": "o-xVGtNgofTQ",
        "outputId": "03c35b21-69f6-40d9-8cfc-c204b4c67725"
      },
      "source": [
        "# Reading and Writing Files in Python\n",
        "\n",
        "with open(\"devanshu.txt\") as f:\n",
        "  myfile = f.read()\n",
        "  \n",
        "print(myfile)"
      ],
      "execution_count": null,
      "outputs": [
        {
          "output_type": "stream",
          "text": [
            "Hi, My name is Devanshu\n"
          ],
          "name": "stdout"
        }
      ]
    },
    {
      "cell_type": "code",
      "metadata": {
        "colab": {
          "base_uri": "https://localhost:8080/"
        },
        "id": "OKWAt6jDsdtr",
        "outputId": "5b408f63-414d-47f3-95c0-b257cdffd18b"
      },
      "source": [
        "with open(\"devanshu.txt\") as f:\n",
        "  myline = f.readline()\n",
        "print(myline)"
      ],
      "execution_count": null,
      "outputs": [
        {
          "output_type": "stream",
          "text": [
            "Hi, My name is \n",
            "\n"
          ],
          "name": "stdout"
        }
      ]
    },
    {
      "cell_type": "code",
      "metadata": {
        "colab": {
          "base_uri": "https://localhost:8080/"
        },
        "id": "o360WjMxsrS9",
        "outputId": "8faba774-b816-4f5e-e721-2f660c9ce91f"
      },
      "source": [
        "with open(\"devanshu.txt\") as f:\n",
        "  for line in f:\n",
        "    print(line)"
      ],
      "execution_count": null,
      "outputs": [
        {
          "output_type": "stream",
          "text": [
            "Hi, My name is \n",
            "\n",
            "Devanshu\n"
          ],
          "name": "stdout"
        }
      ]
    },
    {
      "cell_type": "code",
      "metadata": {
        "id": "32w9TO4Staqm"
      },
      "source": [
        "with open(\"devanshu1.txt\", \"w\") as f:\n",
        "  f.write(\"Hello Ji\")"
      ],
      "execution_count": null,
      "outputs": []
    },
    {
      "cell_type": "code",
      "metadata": {
        "colab": {
          "base_uri": "https://localhost:8080/",
          "height": 38
        },
        "id": "PHGJuppEt6Jx",
        "outputId": "1fe060b2-c8b8-48d6-c8c6-ea52065d629c"
      },
      "source": [
        "# Wiriting JSON data in python\n",
        "import json\n",
        "data = {\"Name\":\"Devanshu Shukla\", \"Age\":30}\n",
        "json.dumps(data)"
      ],
      "execution_count": null,
      "outputs": [
        {
          "output_type": "execute_result",
          "data": {
            "application/vnd.google.colaboratory.intrinsic+json": {
              "type": "string"
            },
            "text/plain": [
              "'{\"Name\": \"Devanshu Shukla\", \"Age\": 30}'"
            ]
          },
          "metadata": {
            "tags": []
          },
          "execution_count": 25
        }
      ]
    },
    {
      "cell_type": "code",
      "metadata": {
        "id": "m0kprLP0uvUq"
      },
      "source": [
        "with open(\"NewJson.json\", \"w\") as f:\n",
        "  json.dump(data, f)"
      ],
      "execution_count": null,
      "outputs": []
    },
    {
      "cell_type": "code",
      "metadata": {
        "colab": {
          "base_uri": "https://localhost:8080/"
        },
        "id": "iA-VlEENveDU",
        "outputId": "5399629f-f2e4-456d-c435-a0f839dffdc8"
      },
      "source": [
        "# Exception handling\n",
        "try:\n",
        "  name = [\"devanshu\", \" shukla\"]\n",
        "  dividebyzero = 10 / 0 \n",
        "  for name in names:\n",
        "    print(name)\n",
        "except NameError as e:\n",
        "  print(\"Please check variable name\")\n",
        "except ZeroDivisionError as e:\n",
        "  print(\"You have divided by zero, please dont\")"
      ],
      "execution_count": null,
      "outputs": [
        {
          "output_type": "stream",
          "text": [
            "You have divided by zero, please dont\n"
          ],
          "name": "stdout"
        }
      ]
    },
    {
      "cell_type": "code",
      "metadata": {
        "colab": {
          "base_uri": "https://localhost:8080/"
        },
        "id": "pH5Z4mJXw6SV",
        "outputId": "ff499369-508c-4102-aaa7-3bfc45a35df9"
      },
      "source": [
        "from myclass import MyClass\n",
        "mclass = MyClass()\n",
        "type(mclass)"
      ],
      "execution_count": null,
      "outputs": [
        {
          "output_type": "execute_result",
          "data": {
            "text/plain": [
              "myclass.MyClass"
            ]
          },
          "metadata": {
            "tags": []
          },
          "execution_count": 36
        }
      ]
    },
    {
      "cell_type": "code",
      "metadata": {
        "colab": {
          "base_uri": "https://localhost:8080/"
        },
        "id": "taA4PVbYylsg",
        "outputId": "96a45bde-f79a-4fe7-c627-aa857f1dfcc7"
      },
      "source": [
        "dir(mclass)"
      ],
      "execution_count": null,
      "outputs": [
        {
          "output_type": "execute_result",
          "data": {
            "text/plain": [
              "['__class__',\n",
              " '__delattr__',\n",
              " '__dict__',\n",
              " '__dir__',\n",
              " '__doc__',\n",
              " '__eq__',\n",
              " '__format__',\n",
              " '__ge__',\n",
              " '__getattribute__',\n",
              " '__gt__',\n",
              " '__hash__',\n",
              " '__init__',\n",
              " '__init_subclass__',\n",
              " '__le__',\n",
              " '__lt__',\n",
              " '__module__',\n",
              " '__ne__',\n",
              " '__new__',\n",
              " '__reduce__',\n",
              " '__reduce_ex__',\n",
              " '__repr__',\n",
              " '__setattr__',\n",
              " '__sizeof__',\n",
              " '__str__',\n",
              " '__subclasshook__',\n",
              " '__weakref__',\n",
              " 'myname']"
            ]
          },
          "metadata": {
            "tags": []
          },
          "execution_count": 40
        }
      ]
    },
    {
      "cell_type": "code",
      "metadata": {
        "colab": {
          "base_uri": "https://localhost:8080/"
        },
        "id": "myGekmUJy-QE",
        "outputId": "13380cbb-9736-4925-b3f2-1d092a7131d8"
      },
      "source": [
        "mclass.myname()"
      ],
      "execution_count": null,
      "outputs": [
        {
          "output_type": "stream",
          "text": [
            "Your name is  <myclass.MyClass object at 0x7fba365fc410>\n"
          ],
          "name": "stdout"
        }
      ]
    }
  ]
}