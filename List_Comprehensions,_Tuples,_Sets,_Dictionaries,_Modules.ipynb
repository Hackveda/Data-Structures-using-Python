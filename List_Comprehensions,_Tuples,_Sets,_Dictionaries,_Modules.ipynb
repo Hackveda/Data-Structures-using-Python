{
  "nbformat": 4,
  "nbformat_minor": 0,
  "metadata": {
    "colab": {
      "name": "List Comprehensions, Tuples, Sets, Dictionaries, Modules",
      "provenance": [],
      "collapsed_sections": [],
      "authorship_tag": "ABX9TyPCuRWkIkbR9CEs//nxT4JZ",
      "include_colab_link": true
    },
    "kernelspec": {
      "name": "python3",
      "display_name": "Python 3"
    },
    "language_info": {
      "name": "python"
    }
  },
  "cells": [
    {
      "cell_type": "markdown",
      "metadata": {
        "id": "view-in-github",
        "colab_type": "text"
      },
      "source": [
        "<a href=\"https://colab.research.google.com/github/Hackveda/Data-Structures-using-Python/blob/main/List_Comprehensions%2C_Tuples%2C_Sets%2C_Dictionaries%2C_Modules.ipynb\" target=\"_parent\"><img src=\"https://colab.research.google.com/assets/colab-badge.svg\" alt=\"Open In Colab\"/></a>"
      ]
    },
    {
      "cell_type": "code",
      "metadata": {
        "colab": {
          "base_uri": "https://localhost:8080/"
        },
        "id": "PqOFvUHERKhp",
        "outputId": "e8930dee-d50a-4855-a24a-b7b613952145"
      },
      "source": [
        "# List Comprehensions\n",
        "# Code without List Comprehension\n",
        "\n",
        "squares = [] # Created a list\n",
        "# perform operation based on condition\n",
        "for i in range(10):\n",
        "  square = i ** 2 # Performing operation\n",
        "  squares.append(square)\n",
        "squares"
      ],
      "execution_count": 1,
      "outputs": [
        {
          "output_type": "execute_result",
          "data": {
            "text/plain": [
              "[0, 1, 4, 9, 16, 25, 36, 49, 64, 81]"
            ]
          },
          "metadata": {
            "tags": []
          },
          "execution_count": 1
        }
      ]
    },
    {
      "cell_type": "code",
      "metadata": {
        "colab": {
          "base_uri": "https://localhost:8080/"
        },
        "id": "IOAl9H1OS55O",
        "outputId": "e2616780-6bba-4e8c-c887-9b2d0f4cd92e"
      },
      "source": [
        "# Modify the code using List Comprehension\n",
        "# [Operation Iterable Condition]\n",
        "# 1. Iterable\n",
        "# 2. Condition\n",
        "# 3. Operation\n",
        "\n",
        "comprehendedList = [ i**2 for i in range (10) ]\n",
        "comprehendedList"
      ],
      "execution_count": 2,
      "outputs": [
        {
          "output_type": "execute_result",
          "data": {
            "text/plain": [
              "[0, 1, 4, 9, 16, 25, 36, 49, 64, 81]"
            ]
          },
          "metadata": {
            "tags": []
          },
          "execution_count": 2
        }
      ]
    },
    {
      "cell_type": "code",
      "metadata": {
        "colab": {
          "base_uri": "https://localhost:8080/"
        },
        "id": "WbEl6TvfTcyt",
        "outputId": "28b69eba-d20b-4f12-9ca7-50fea3611222"
      },
      "source": [
        "# Example 2 of List Comprehension\n",
        "[ i**2 for i in range(10) if (i % 2) == 0 ]"
      ],
      "execution_count": 4,
      "outputs": [
        {
          "output_type": "execute_result",
          "data": {
            "text/plain": [
              "[0, 4, 16, 36, 64]"
            ]
          },
          "metadata": {
            "tags": []
          },
          "execution_count": 4
        }
      ]
    },
    {
      "cell_type": "code",
      "metadata": {
        "colab": {
          "base_uri": "https://localhost:8080/"
        },
        "id": "x9ZbFBeBUBYC",
        "outputId": "8108e71f-98f3-4006-efbc-5536abd26397"
      },
      "source": [
        "# Make a mtarix using Nested List Comprehension\n",
        "matrix = [\n",
        "         [10,20,30,40],\n",
        "         [50,60,70,80],\n",
        "         [90,100,110,120]\n",
        "]\n",
        "\n",
        "[[ row[i] for row in matrix] for i in range(4)]"
      ],
      "execution_count": 7,
      "outputs": [
        {
          "output_type": "execute_result",
          "data": {
            "text/plain": [
              "[[10, 50, 90], [20, 60, 100], [30, 70, 110], [40, 80, 120]]"
            ]
          },
          "metadata": {
            "tags": []
          },
          "execution_count": 7
        }
      ]
    },
    {
      "cell_type": "code",
      "metadata": {
        "colab": {
          "base_uri": "https://localhost:8080/"
        },
        "id": "wh3gdIC4VWXY",
        "outputId": "91440983-ada7-43a6-ec9b-08865bbaa8ce"
      },
      "source": [
        "sample = [\"Devanshu\", \"Arush\", \"Ajay\", \"Vijay\"]\n",
        "del sample[1]\n",
        "sample"
      ],
      "execution_count": 8,
      "outputs": [
        {
          "output_type": "execute_result",
          "data": {
            "text/plain": [
              "['Devanshu', 'Ajay', 'Vijay']"
            ]
          },
          "metadata": {
            "tags": []
          },
          "execution_count": 8
        }
      ]
    },
    {
      "cell_type": "code",
      "metadata": {
        "colab": {
          "base_uri": "https://localhost:8080/"
        },
        "id": "MQLFvRz_V17w",
        "outputId": "e3fdf65b-32b8-414e-8e24-7c6231860c6a"
      },
      "source": [
        "# Tuples and Sequences \n",
        "mytuple = (\"Devanshu\", \"Shukla\", \"Arush\", \"Batra\", \"Shukla\")\n",
        "mytuple"
      ],
      "execution_count": 9,
      "outputs": [
        {
          "output_type": "execute_result",
          "data": {
            "text/plain": [
              "('Devanshu', 'Shukla', 'Arush', 'Batra', 'Shukla')"
            ]
          },
          "metadata": {
            "tags": []
          },
          "execution_count": 9
        }
      ]
    },
    {
      "cell_type": "code",
      "metadata": {
        "colab": {
          "base_uri": "https://localhost:8080/",
          "height": 182
        },
        "id": "ciiAw9uvWXUf",
        "outputId": "116076a5-c53f-4f86-9be9-ac6eb6b0540e"
      },
      "source": [
        "mytuple[1] = \"Sharma\" # Tuple are immutable"
      ],
      "execution_count": 11,
      "outputs": [
        {
          "output_type": "error",
          "ename": "TypeError",
          "evalue": "ignored",
          "traceback": [
            "\u001b[0;31m---------------------------------------------------------------------------\u001b[0m",
            "\u001b[0;31mTypeError\u001b[0m                                 Traceback (most recent call last)",
            "\u001b[0;32m<ipython-input-11-ff458b24098f>\u001b[0m in \u001b[0;36m<module>\u001b[0;34m()\u001b[0m\n\u001b[0;32m----> 1\u001b[0;31m \u001b[0mmytuple\u001b[0m\u001b[0;34m[\u001b[0m\u001b[0;36m1\u001b[0m\u001b[0;34m]\u001b[0m \u001b[0;34m=\u001b[0m \u001b[0;34m\"Sharma\"\u001b[0m\u001b[0;34m\u001b[0m\u001b[0;34m\u001b[0m\u001b[0m\n\u001b[0m",
            "\u001b[0;31mTypeError\u001b[0m: 'tuple' object does not support item assignment"
          ]
        }
      ]
    },
    {
      "cell_type": "code",
      "metadata": {
        "colab": {
          "base_uri": "https://localhost:8080/",
          "height": 182
        },
        "id": "sN9OjQ7xWlnM",
        "outputId": "961622ce-6698-44f6-84f6-2bfa857f91ac"
      },
      "source": [
        "del mytuple[1] # Tuples cannot be deleted"
      ],
      "execution_count": 12,
      "outputs": [
        {
          "output_type": "error",
          "ename": "TypeError",
          "evalue": "ignored",
          "traceback": [
            "\u001b[0;31m---------------------------------------------------------------------------\u001b[0m",
            "\u001b[0;31mTypeError\u001b[0m                                 Traceback (most recent call last)",
            "\u001b[0;32m<ipython-input-12-011fbf932d04>\u001b[0m in \u001b[0;36m<module>\u001b[0;34m()\u001b[0m\n\u001b[0;32m----> 1\u001b[0;31m \u001b[0;32mdel\u001b[0m \u001b[0mmytuple\u001b[0m\u001b[0;34m[\u001b[0m\u001b[0;36m1\u001b[0m\u001b[0;34m]\u001b[0m\u001b[0;34m\u001b[0m\u001b[0;34m\u001b[0m\u001b[0m\n\u001b[0m",
            "\u001b[0;31mTypeError\u001b[0m: 'tuple' object doesn't support item deletion"
          ]
        }
      ]
    },
    {
      "cell_type": "code",
      "metadata": {
        "id": "oU0-Q9LUWy6S"
      },
      "source": [
        "# Tuples support multiple item assignments \n",
        "\n",
        "name, sirname, age, height = (\"Devanshu\", \"Shukla\", 30, 5.9)"
      ],
      "execution_count": 13,
      "outputs": []
    },
    {
      "cell_type": "code",
      "metadata": {
        "colab": {
          "base_uri": "https://localhost:8080/"
        },
        "id": "HnMNWVfHXPQM",
        "outputId": "18ef1d2c-17a2-49d9-cb74-33e22f0e3c11"
      },
      "source": [
        "print(\"Name:\", name, \"Sirname:\", sirname, \"Age:\", age, \"Height:\", height)"
      ],
      "execution_count": 14,
      "outputs": [
        {
          "output_type": "stream",
          "text": [
            "Name: Devanshu Sirname: Shukla Age: 30 Height: 5.9\n"
          ],
          "name": "stdout"
        }
      ]
    },
    {
      "cell_type": "code",
      "metadata": {
        "colab": {
          "base_uri": "https://localhost:8080/"
        },
        "id": "IeXJzlBPXpuR",
        "outputId": "e7b8f09d-0b10-44a8-f1a6-34c4bca38e25"
      },
      "source": [
        "# Sets {}\n",
        "\n",
        "myset = {\"Devanshu\", \"Shukla\", \"Devanshu\", \"Arush\"}\n",
        "myset"
      ],
      "execution_count": 15,
      "outputs": [
        {
          "output_type": "execute_result",
          "data": {
            "text/plain": [
              "{'Arush', 'Devanshu', 'Shukla'}"
            ]
          },
          "metadata": {
            "tags": []
          },
          "execution_count": 15
        }
      ]
    },
    {
      "cell_type": "code",
      "metadata": {
        "colab": {
          "base_uri": "https://localhost:8080/"
        },
        "id": "s_SzDFMdYU0z",
        "outputId": "4c2fc30b-90dc-4847-8037-7ab46a0f07c5"
      },
      "source": [
        "# Python supports Sets Comprehension\n",
        "\n",
        "comprehendedSet = { i * 10 for i in range(10) if (i%2) == 0 }\n",
        "comprehendedSet\n"
      ],
      "execution_count": 18,
      "outputs": [
        {
          "output_type": "execute_result",
          "data": {
            "text/plain": [
              "{0, 20, 40, 60, 80}"
            ]
          },
          "metadata": {
            "tags": []
          },
          "execution_count": 18
        }
      ]
    },
    {
      "cell_type": "code",
      "metadata": {
        "colab": {
          "base_uri": "https://localhost:8080/"
        },
        "id": "qLZxSO25ZIrG",
        "outputId": "9046802e-3505-4603-ebbe-29790ebb1d5b"
      },
      "source": [
        "# Dictionaries  {\"Key\": \"Value\"} = O(1) Time Complexity CRUD\n",
        "mydict = {\"Name\":\"Devanshu\", \"Age\":30}\n",
        "mydict[\"Name\"] = \"Sudhanshu\"\n",
        "del mydict[\"Age\"]\n",
        "mydict\n",
        "\n",
        "print(\"The Value of Name key in dictionary is\", mydict[\"Name\"])"
      ],
      "execution_count": 22,
      "outputs": [
        {
          "output_type": "stream",
          "text": [
            "The Value of Name key in dictionary is Sudhanshu\n"
          ],
          "name": "stdout"
        }
      ]
    },
    {
      "cell_type": "code",
      "metadata": {
        "colab": {
          "base_uri": "https://localhost:8080/"
        },
        "id": "iIL8uAzYZ_z2",
        "outputId": "b0596b2d-045c-4554-b511-a707032b3614"
      },
      "source": [
        "mydict1 = {\"Name\": \"Devanshu\", \"Age\":30, \"Height\": 5.9}\n",
        "# Perfomr Loops on dictionaries\n",
        "for index, value in mydict1.items():\n",
        "  print(\"Index is\", index, \"and Value is\", value)"
      ],
      "execution_count": 24,
      "outputs": [
        {
          "output_type": "stream",
          "text": [
            "Index is Name and Value is Devanshu\n",
            "Index is Age and Value is 30\n",
            "Index is Height and Value is 5.9\n"
          ],
          "name": "stdout"
        }
      ]
    },
    {
      "cell_type": "code",
      "metadata": {
        "colab": {
          "base_uri": "https://localhost:8080/"
        },
        "id": "K3Ft0oTjanW3",
        "outputId": "58012228-8e41-4601-e4c3-d1d81ddb9da2"
      },
      "source": [
        "# Enumerate function helps you return index and value associated to it\n",
        "mylist = [10, 20, 30, 40, 50]\n",
        "\n",
        "for index, value in enumerate(mylist):\n",
        "  print(index, value)\n"
      ],
      "execution_count": 25,
      "outputs": [
        {
          "output_type": "stream",
          "text": [
            "0 10\n",
            "1 20\n",
            "2 30\n",
            "3 40\n",
            "4 50\n"
          ],
          "name": "stdout"
        }
      ]
    },
    {
      "cell_type": "code",
      "metadata": {
        "colab": {
          "base_uri": "https://localhost:8080/"
        },
        "id": "EP6SXYkAbJix",
        "outputId": "f64a114e-be8b-4a40-bd96-db5281a82e8c"
      },
      "source": [
        "actors = [\"Salman\", \"Ranveer\", \"Ranbir\"]\n",
        "actresses = [\"Katrina\", \"Deepika\", \"Alia\"]\n",
        "# Objective: print: The opposite actress of Salman is Katrina\n",
        "for actor, actress in zip(actors, actresses):\n",
        "  print(\"The opposite actress of \", actor, \"is\", actress)"
      ],
      "execution_count": 27,
      "outputs": [
        {
          "output_type": "stream",
          "text": [
            "The opposite actress of  Salman is Katrina\n",
            "The opposite actress of  Ranveer is Deepika\n",
            "The opposite actress of  Ranbir is Alia\n"
          ],
          "name": "stdout"
        }
      ]
    },
    {
      "cell_type": "code",
      "metadata": {
        "colab": {
          "base_uri": "https://localhost:8080/"
        },
        "id": "wfdJhJHJb0Dg",
        "outputId": "c069791c-5422-4c3d-a871-8b4caf5e6ecc"
      },
      "source": [
        "actors = [\"Salman\", \"Ranveer\", \"Ranbir\"]\n",
        "actresses = [\"Katrina\", \"Deepika\", \"Alia\"]\n",
        "# Objective: print: The opposite actress of Salman is Katrina\n",
        "for actor in reversed(actors):\n",
        "  print(actor)"
      ],
      "execution_count": 29,
      "outputs": [
        {
          "output_type": "stream",
          "text": [
            "Ranbir\n",
            "Ranveer\n",
            "Salman\n"
          ],
          "name": "stdout"
        }
      ]
    },
    {
      "cell_type": "code",
      "metadata": {
        "colab": {
          "base_uri": "https://localhost:8080/"
        },
        "id": "18yZ6QOFe3DX",
        "outputId": "09683484-6b54-41c9-b08d-41687753073d"
      },
      "source": [
        "fb.fib(100)"
      ],
      "execution_count": 4,
      "outputs": [
        {
          "output_type": "stream",
          "text": [
            "0, 1, 1, 2, 3, 5, 8, 13, 21, 34, 55, 89, \n"
          ],
          "name": "stdout"
        }
      ]
    },
    {
      "cell_type": "code",
      "metadata": {
        "colab": {
          "base_uri": "https://localhost:8080/"
        },
        "id": "SkyL4F71ghbn",
        "outputId": "c7526fb6-904a-4f71-c859-5d9323cbd472"
      },
      "source": [
        "import pandas\n",
        "dir(pandas)"
      ],
      "execution_count": 12,
      "outputs": [
        {
          "output_type": "execute_result",
          "data": {
            "text/plain": [
              "['BooleanDtype',\n",
              " 'Categorical',\n",
              " 'CategoricalDtype',\n",
              " 'CategoricalIndex',\n",
              " 'DataFrame',\n",
              " 'DateOffset',\n",
              " 'DatetimeIndex',\n",
              " 'DatetimeTZDtype',\n",
              " 'ExcelFile',\n",
              " 'ExcelWriter',\n",
              " 'Float64Index',\n",
              " 'Grouper',\n",
              " 'HDFStore',\n",
              " 'Index',\n",
              " 'IndexSlice',\n",
              " 'Int16Dtype',\n",
              " 'Int32Dtype',\n",
              " 'Int64Dtype',\n",
              " 'Int64Index',\n",
              " 'Int8Dtype',\n",
              " 'Interval',\n",
              " 'IntervalDtype',\n",
              " 'IntervalIndex',\n",
              " 'MultiIndex',\n",
              " 'NA',\n",
              " 'NaT',\n",
              " 'NamedAgg',\n",
              " 'Period',\n",
              " 'PeriodDtype',\n",
              " 'PeriodIndex',\n",
              " 'RangeIndex',\n",
              " 'Series',\n",
              " 'SparseDtype',\n",
              " 'StringDtype',\n",
              " 'Timedelta',\n",
              " 'TimedeltaIndex',\n",
              " 'Timestamp',\n",
              " 'UInt16Dtype',\n",
              " 'UInt32Dtype',\n",
              " 'UInt64Dtype',\n",
              " 'UInt64Index',\n",
              " 'UInt8Dtype',\n",
              " '__builtins__',\n",
              " '__cached__',\n",
              " '__doc__',\n",
              " '__docformat__',\n",
              " '__file__',\n",
              " '__getattr__',\n",
              " '__git_version__',\n",
              " '__loader__',\n",
              " '__name__',\n",
              " '__package__',\n",
              " '__path__',\n",
              " '__spec__',\n",
              " '__version__',\n",
              " '_config',\n",
              " '_hashtable',\n",
              " '_is_numpy_dev',\n",
              " '_lib',\n",
              " '_libs',\n",
              " '_np_version_under1p16',\n",
              " '_np_version_under1p17',\n",
              " '_np_version_under1p18',\n",
              " '_testing',\n",
              " '_tslib',\n",
              " '_typing',\n",
              " '_version',\n",
              " 'api',\n",
              " 'array',\n",
              " 'arrays',\n",
              " 'bdate_range',\n",
              " 'compat',\n",
              " 'concat',\n",
              " 'core',\n",
              " 'crosstab',\n",
              " 'cut',\n",
              " 'date_range',\n",
              " 'describe_option',\n",
              " 'errors',\n",
              " 'eval',\n",
              " 'factorize',\n",
              " 'get_dummies',\n",
              " 'get_option',\n",
              " 'infer_freq',\n",
              " 'interval_range',\n",
              " 'io',\n",
              " 'isna',\n",
              " 'isnull',\n",
              " 'json_normalize',\n",
              " 'lreshape',\n",
              " 'melt',\n",
              " 'merge',\n",
              " 'merge_asof',\n",
              " 'merge_ordered',\n",
              " 'notna',\n",
              " 'notnull',\n",
              " 'offsets',\n",
              " 'option_context',\n",
              " 'options',\n",
              " 'pandas',\n",
              " 'period_range',\n",
              " 'pivot',\n",
              " 'pivot_table',\n",
              " 'plotting',\n",
              " 'qcut',\n",
              " 'read_clipboard',\n",
              " 'read_csv',\n",
              " 'read_excel',\n",
              " 'read_feather',\n",
              " 'read_fwf',\n",
              " 'read_gbq',\n",
              " 'read_hdf',\n",
              " 'read_html',\n",
              " 'read_json',\n",
              " 'read_orc',\n",
              " 'read_parquet',\n",
              " 'read_pickle',\n",
              " 'read_sas',\n",
              " 'read_spss',\n",
              " 'read_sql',\n",
              " 'read_sql_query',\n",
              " 'read_sql_table',\n",
              " 'read_stata',\n",
              " 'read_table',\n",
              " 'reset_option',\n",
              " 'set_eng_float_format',\n",
              " 'set_option',\n",
              " 'show_versions',\n",
              " 'test',\n",
              " 'testing',\n",
              " 'timedelta_range',\n",
              " 'to_datetime',\n",
              " 'to_numeric',\n",
              " 'to_pickle',\n",
              " 'to_timedelta',\n",
              " 'tseries',\n",
              " 'unique',\n",
              " 'util',\n",
              " 'value_counts',\n",
              " 'wide_to_long']"
            ]
          },
          "metadata": {
            "tags": []
          },
          "execution_count": 12
        }
      ]
    }
  ]
}